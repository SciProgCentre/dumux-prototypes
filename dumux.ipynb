{
 "cells": [
  {
   "cell_type": "markdown",
   "id": "db778e0f",
   "metadata": {},
   "source": [
    "Assuming you have `conda` and `git` \n",
    "\n",
    "Install `pkg-config` if you don't have it:\n",
    "```\n",
    "$ sudo apt install pkg-config\n",
    "```\n",
    "\n",
    "Conda env:\n",
    "```\n",
    "$ conda env create -f env.yml\n",
    "$ conda activate dumux\n",
    "```\n",
    "\n",
    "Install all that crap:\n",
    "```\n",
    "$ python installdumux.py\n",
    "```\n",
    "\n",
    "Go to the test directory and build it:\n",
    "```\n",
    "$ cd dumux/dumux/build-cmake/test/porousmediumflow/1p/isothermal\n",
    "$ cmake --build . --target test_1p_tpfa\n",
    "```\n",
    "Run the executable:\n",
    "```\n",
    "$ ./test_1p_tpfa\n",
    "```\n",
    "This should have produced `1ptestfv.pvd` that we are going to visualise now."
   ]
  },
  {
   "cell_type": "code",
   "execution_count": 43,
   "id": "1c19d7ff",
   "metadata": {},
   "outputs": [],
   "source": [
    "import pyvista as pv\n",
    "opts = {'jupyter_backend': 'pythreejs', 'window_size' : [800, 350]}"
   ]
  },
  {
   "cell_type": "code",
   "execution_count": 13,
   "id": "bf28f084",
   "metadata": {},
   "outputs": [
    {
     "data": {
      "text/plain": [
       "[0.0, 1.0]"
      ]
     },
     "execution_count": 13,
     "metadata": {},
     "output_type": "execute_result"
    }
   ],
   "source": [
    "filename = '1ptestfv.pvd' \n",
    "reader = pv.get_reader(filename)\n",
    "reader.time_values"
   ]
  },
  {
   "cell_type": "code",
   "execution_count": 37,
   "id": "59d3f8ed",
   "metadata": {},
   "outputs": [
    {
     "data": {
      "text/plain": [
       "0.0"
      ]
     },
     "execution_count": 37,
     "metadata": {},
     "output_type": "execute_result"
    }
   ],
   "source": [
    "reader.set_active_time_point(0)\n",
    "reader.active_time_value"
   ]
  },
  {
   "cell_type": "code",
   "execution_count": 38,
   "id": "0f609e2d",
   "metadata": {},
   "outputs": [
    {
     "data": {
      "text/html": [
       "<table><tr><th>Header</th><th>Data Arrays</th></tr><tr><td>\n",
       "<table>\n",
       "<tr><th>UnstructuredGrid</th><th>Information</th></tr>\n",
       "<tr><td>N Cells</td><td>100</td></tr>\n",
       "<tr><td>N Points</td><td>121</td></tr>\n",
       "<tr><td>X Bounds</td><td>0.000e+00, 1.000e+00</td></tr>\n",
       "<tr><td>Y Bounds</td><td>0.000e+00, 1.000e+00</td></tr>\n",
       "<tr><td>Z Bounds</td><td>0.000e+00, 0.000e+00</td></tr>\n",
       "<tr><td>N Arrays</td><td>2</td></tr>\n",
       "</table>\n",
       "\n",
       "</td><td>\n",
       "<table>\n",
       "<tr><th>Name</th><th>Field</th><th>Type</th><th>N Comp</th><th>Min</th><th>Max</th></tr>\n",
       "<tr><td><b>p</b></td><td>Cells</td><td>float32</td><td>1</td><td>1.000e+05</td><td>1.000e+05</td></tr>\n",
       "<tr><td>process rank</td><td>Cells</td><td>float32</td><td>1</td><td>0.000e+00</td><td>0.000e+00</td></tr>\n",
       "</table>\n",
       "\n",
       "</td></tr> </table>"
      ],
      "text/plain": [
       "UnstructuredGrid (0x7f343649dd60)\n",
       "  N Cells:\t100\n",
       "  N Points:\t121\n",
       "  X Bounds:\t0.000e+00, 1.000e+00\n",
       "  Y Bounds:\t0.000e+00, 1.000e+00\n",
       "  Z Bounds:\t0.000e+00, 0.000e+00\n",
       "  N Arrays:\t2"
      ]
     },
     "execution_count": 38,
     "metadata": {},
     "output_type": "execute_result"
    }
   ],
   "source": [
    "meshe0 = reader.read()[0]\n",
    "meshe0"
   ]
  },
  {
   "cell_type": "code",
   "execution_count": 39,
   "id": "77c6cda3",
   "metadata": {},
   "outputs": [
    {
     "data": {
      "application/vnd.jupyter.widget-view+json": {
       "model_id": "1d52e1694c9c4c5ea2bc4e99694a272e",
       "version_major": 2,
       "version_minor": 0
      },
      "text/plain": [
       "Renderer(camera=PerspectiveCamera(aspect=2.2857142857142856, children=(DirectionalLight(color='#fefefe', inten…"
      ]
     },
     "metadata": {},
     "output_type": "display_data"
    }
   ],
   "source": [
    "meshe0.plot(scalars='p', **opts)"
   ]
  },
  {
   "cell_type": "code",
   "execution_count": 40,
   "id": "e5f0f84a",
   "metadata": {},
   "outputs": [
    {
     "data": {
      "text/plain": [
       "1.0"
      ]
     },
     "execution_count": 40,
     "metadata": {},
     "output_type": "execute_result"
    }
   ],
   "source": [
    "reader.set_active_time_point(1)\n",
    "reader.active_time_value"
   ]
  },
  {
   "cell_type": "code",
   "execution_count": 41,
   "id": "dc1e33ea",
   "metadata": {},
   "outputs": [
    {
     "data": {
      "text/html": [
       "<table><tr><th>Header</th><th>Data Arrays</th></tr><tr><td>\n",
       "<table>\n",
       "<tr><th>UnstructuredGrid</th><th>Information</th></tr>\n",
       "<tr><td>N Cells</td><td>100</td></tr>\n",
       "<tr><td>N Points</td><td>121</td></tr>\n",
       "<tr><td>X Bounds</td><td>0.000e+00, 1.000e+00</td></tr>\n",
       "<tr><td>Y Bounds</td><td>0.000e+00, 1.000e+00</td></tr>\n",
       "<tr><td>Z Bounds</td><td>0.000e+00, 0.000e+00</td></tr>\n",
       "<tr><td>N Arrays</td><td>2</td></tr>\n",
       "</table>\n",
       "\n",
       "</td><td>\n",
       "<table>\n",
       "<tr><th>Name</th><th>Field</th><th>Type</th><th>N Comp</th><th>Min</th><th>Max</th></tr>\n",
       "<tr><td><b>p</b></td><td>Cells</td><td>float32</td><td>1</td><td>1.012e+05</td><td>1.988e+05</td></tr>\n",
       "<tr><td>process rank</td><td>Cells</td><td>float32</td><td>1</td><td>0.000e+00</td><td>0.000e+00</td></tr>\n",
       "</table>\n",
       "\n",
       "</td></tr> </table>"
      ],
      "text/plain": [
       "UnstructuredGrid (0x7f343649da60)\n",
       "  N Cells:\t100\n",
       "  N Points:\t121\n",
       "  X Bounds:\t0.000e+00, 1.000e+00\n",
       "  Y Bounds:\t0.000e+00, 1.000e+00\n",
       "  Z Bounds:\t0.000e+00, 0.000e+00\n",
       "  N Arrays:\t2"
      ]
     },
     "execution_count": 41,
     "metadata": {},
     "output_type": "execute_result"
    }
   ],
   "source": [
    "meshe1 = reader.read()[0]\n",
    "meshe1"
   ]
  },
  {
   "cell_type": "code",
   "execution_count": 42,
   "id": "253a5305",
   "metadata": {},
   "outputs": [
    {
     "data": {
      "application/vnd.jupyter.widget-view+json": {
       "model_id": "d9d7ebe22e0044cca9d7403c503fb451",
       "version_major": 2,
       "version_minor": 0
      },
      "text/plain": [
       "Renderer(camera=PerspectiveCamera(aspect=2.2857142857142856, children=(DirectionalLight(color='#fefefe', inten…"
      ]
     },
     "metadata": {},
     "output_type": "display_data"
    }
   ],
   "source": [
    "meshe1.plot(scalars='p', **opts)"
   ]
  }
 ],
 "metadata": {
  "kernelspec": {
   "display_name": "Python 3 (ipykernel)",
   "language": "python",
   "name": "python3"
  },
  "language_info": {
   "codemirror_mode": {
    "name": "ipython",
    "version": 3
   },
   "file_extension": ".py",
   "mimetype": "text/x-python",
   "name": "python",
   "nbconvert_exporter": "python",
   "pygments_lexer": "ipython3",
   "version": "3.9.7"
  }
 },
 "nbformat": 4,
 "nbformat_minor": 5
}
