{
 "cells": [
  {
   "cell_type": "code",
   "execution_count": 1,
   "id": "57b72ad3",
   "metadata": {},
   "outputs": [],
   "source": [
    "import pyvista as pv\n",
    "import pyvista.examples\n",
    "import torch\n",
    "opts = {'jupyter_backend': 'pythreejs', 'window_size' : [800, 350]}"
   ]
  },
  {
   "cell_type": "code",
   "execution_count": 2,
   "id": "488a6590",
   "metadata": {},
   "outputs": [],
   "source": [
    "mesh = pv.examples.load_globe()"
   ]
  },
  {
   "cell_type": "code",
   "execution_count": 3,
   "id": "ecb66ed7",
   "metadata": {
    "scrolled": true
   },
   "outputs": [
    {
     "data": {
      "application/vnd.jupyter.widget-view+json": {
       "model_id": "889ef999c8844d0796abe8834a56b68d",
       "version_major": 2,
       "version_minor": 0
      },
      "text/plain": [
       "Renderer(camera=PerspectiveCamera(aspect=2.2857142857142856, children=(DirectionalLight(color='#fefefe', inten…"
      ]
     },
     "metadata": {},
     "output_type": "display_data"
    }
   ],
   "source": [
    "mesh.plot(**opts);"
   ]
  },
  {
   "cell_type": "code",
   "execution_count": 4,
   "id": "50740e24",
   "metadata": {},
   "outputs": [
    {
     "data": {
      "application/vnd.jupyter.widget-view+json": {
       "model_id": "8fd8527fb7fc4e239d063a09621b8392",
       "version_major": 2,
       "version_minor": 0
      },
      "text/plain": [
       "Renderer(camera=PerspectiveCamera(aspect=2.2857142857142856, children=(DirectionalLight(color='#fefefe', inten…"
      ]
     },
     "metadata": {},
     "output_type": "display_data"
    }
   ],
   "source": [
    "points = torch.rand((10,3))\n",
    "mesh = pv.PolyData(points.numpy())\n",
    "mesh.plot(point_size=20, style='points', **opts)"
   ]
  },
  {
   "cell_type": "code",
   "execution_count": 5,
   "id": "0f3e102e",
   "metadata": {},
   "outputs": [
    {
     "data": {
      "application/vnd.jupyter.widget-view+json": {
       "model_id": "8eb8b4feddfa4d75b457367ff2287816",
       "version_major": 2,
       "version_minor": 0
      },
      "text/plain": [
       "Renderer(camera=PerspectiveCamera(aspect=2.2857142857142856, children=(DirectionalLight(color='#fefefe', inten…"
      ]
     },
     "metadata": {},
     "output_type": "display_data"
    }
   ],
   "source": [
    "mesh = pv.examples.load_hexbeam()\n",
    "cpos = [(6.20, 3.00, 7.50),\n",
    "        (0.16, 0.13, 2.65),\n",
    "        (-0.28, 0.94, -0.21)]\n",
    "\n",
    "pl = pv.Plotter()\n",
    "pl.add_mesh(mesh, show_edges=True, color='white', opacity=0.7)\n",
    "pl.add_points(mesh.points, color='red',\n",
    "              point_size=20)\n",
    "pl.camera_position = cpos\n",
    "pl.show(**opts)"
   ]
  },
  {
   "cell_type": "code",
   "execution_count": 6,
   "id": "b881ef0c",
   "metadata": {},
   "outputs": [
    {
     "data": {
      "application/vnd.jupyter.widget-view+json": {
       "model_id": "41b48f32f14c4ec495f634d8b2775d95",
       "version_major": 2,
       "version_minor": 0
      },
      "text/plain": [
       "Renderer(camera=PerspectiveCamera(aspect=2.2857142857142856, children=(DirectionalLight(color='#fefefe', inten…"
      ]
     },
     "metadata": {},
     "output_type": "display_data"
    }
   ],
   "source": [
    "pl = pv.Plotter()\n",
    "pl.add_mesh(mesh, show_edges=True, color='white', opacity=0.5)\n",
    "pl.add_points(mesh.points, color='red', point_size=20)\n",
    "\n",
    "single_cell = mesh.extract_cells(mesh.n_cells - 1)\n",
    "pl.add_mesh(single_cell, color='pink', edge_color='blue',\n",
    "            line_width=5, show_edges=True)\n",
    "\n",
    "pl.camera_position = cpos\n",
    "pl.show(**opts)"
   ]
  },
  {
   "cell_type": "code",
   "execution_count": 7,
   "id": "8564128a",
   "metadata": {},
   "outputs": [
    {
     "data": {
      "application/vnd.jupyter.widget-view+json": {
       "model_id": "be0e548164f44224adcea578896438d2",
       "version_major": 2,
       "version_minor": 0
      },
      "text/plain": [
       "Renderer(camera=PerspectiveCamera(aspect=2.2857142857142856, children=(DirectionalLight(color='#fefefe', inten…"
      ]
     },
     "metadata": {},
     "output_type": "display_data"
    }
   ],
   "source": [
    "mesh.cell_data['density'] = torch.arange(mesh.n_cells).numpy()\n",
    "mesh.plot(scalars='density',show_edges=True, cpos=cpos, opacity=0.8, **opts)"
   ]
  },
  {
   "cell_type": "code",
   "execution_count": 8,
   "id": "8c4dc083",
   "metadata": {},
   "outputs": [
    {
     "data": {
      "application/vnd.jupyter.widget-view+json": {
       "model_id": "3c7d217458794b3cac9d7ca4bdc28b97",
       "version_major": 2,
       "version_minor": 0
      },
      "text/plain": [
       "Renderer(camera=PerspectiveCamera(aspect=2.2857142857142856, children=(DirectionalLight(color='#fefefe', inten…"
      ]
     },
     "metadata": {},
     "output_type": "display_data"
    }
   ],
   "source": [
    "mesh.save('data/hexbeam.vtu')\n",
    "nmesh = pv.read('data/hexbeam.vtu')\n",
    "nmesh.plot(scalars='density',show_edges=True, cpos=cpos, opacity=0.8, **opts)"
   ]
  },
  {
   "cell_type": "code",
   "execution_count": 9,
   "id": "1d4c2152",
   "metadata": {},
   "outputs": [
    {
     "data": {
      "application/vnd.jupyter.widget-view+json": {
       "model_id": "201bd8eecd454da1a747acf1ea2ae0be",
       "version_major": 2,
       "version_minor": 0
      },
      "text/plain": [
       "Renderer(camera=PerspectiveCamera(aspect=2.2857142857142856, children=(DirectionalLight(color='#fefefe', inten…"
      ]
     },
     "metadata": {},
     "output_type": "display_data"
    }
   ],
   "source": [
    "grid = pv.UniformGrid(dims=(3, 3, 3))\n",
    "pl = pv.Plotter()\n",
    "pl.add_mesh(grid, show_edges=True, color='white', opacity=0.5)\n",
    "pl.add_points(grid.points, color='red', point_size=20)\n",
    "pl.show(**opts)"
   ]
  },
  {
   "cell_type": "code",
   "execution_count": 10,
   "id": "8351c434",
   "metadata": {},
   "outputs": [
    {
     "data": {
      "application/vnd.jupyter.widget-view+json": {
       "model_id": "7cc5b0226f3746d2b865399f494eef0a",
       "version_major": 2,
       "version_minor": 0
      },
      "text/plain": [
       "Renderer(camera=PerspectiveCamera(aspect=2.2857142857142856, children=(DirectionalLight(color='#fefefe', inten…"
      ]
     },
     "metadata": {},
     "output_type": "display_data"
    }
   ],
   "source": [
    "gridpoints = pv.PolyData(grid.points)\n",
    "gridpoints.plot(point_size=20, style='points', **opts)"
   ]
  },
  {
   "cell_type": "code",
   "execution_count": 11,
   "id": "d35e99b3",
   "metadata": {},
   "outputs": [],
   "source": [
    "tmesh = gridpoints.delaunay_3d()"
   ]
  },
  {
   "cell_type": "code",
   "execution_count": 12,
   "id": "bdc82fe8",
   "metadata": {},
   "outputs": [
    {
     "data": {
      "application/vnd.jupyter.widget-view+json": {
       "model_id": "825c19945641436783480a514110cd3a",
       "version_major": 2,
       "version_minor": 0
      },
      "text/plain": [
       "Renderer(camera=PerspectiveCamera(aspect=2.2857142857142856, children=(DirectionalLight(color='#fefefe', inten…"
      ]
     },
     "metadata": {},
     "output_type": "display_data"
    }
   ],
   "source": [
    "pl = pv.Plotter()\n",
    "pl.add_mesh(tmesh, show_edges=True, color='white', opacity=0.5)\n",
    "pl.add_points(tmesh.points, color='red', point_size=20)\n",
    "pl.show(**opts)"
   ]
  },
  {
   "cell_type": "code",
   "execution_count": 13,
   "id": "764c4d04",
   "metadata": {},
   "outputs": [
    {
     "data": {
      "text/plain": [
       "48"
      ]
     },
     "execution_count": 13,
     "metadata": {},
     "output_type": "execute_result"
    }
   ],
   "source": [
    "tmesh.number_of_cells"
   ]
  },
  {
   "cell_type": "code",
   "execution_count": 14,
   "id": "c96c6928",
   "metadata": {},
   "outputs": [
    {
     "data": {
      "application/vnd.jupyter.widget-view+json": {
       "model_id": "c06254c1a62149128ac0ea1af3fa0c56",
       "version_major": 2,
       "version_minor": 0
      },
      "text/plain": [
       "Renderer(camera=PerspectiveCamera(aspect=2.2857142857142856, children=(DirectionalLight(color='#fefefe', inten…"
      ]
     },
     "metadata": {},
     "output_type": "display_data"
    }
   ],
   "source": [
    "pl = pv.Plotter()\n",
    "pl.add_mesh(tmesh, show_edges=True, color='white', opacity=0.5)\n",
    "pl.add_points(tmesh.points, color='red', point_size=20)\n",
    "\n",
    "single_cell = tmesh.extract_cells(tmesh.n_cells - 1)\n",
    "\n",
    "pl.add_mesh(single_cell, color='pink', edge_color='blue',\n",
    "            line_width=5, show_edges=True)\n",
    "pl.show(**opts)"
   ]
  },
  {
   "cell_type": "code",
   "execution_count": 15,
   "id": "15be7731",
   "metadata": {},
   "outputs": [
    {
     "data": {
      "application/vnd.jupyter.widget-view+json": {
       "model_id": "054f3eb609134777ad58782f71504f7f",
       "version_major": 2,
       "version_minor": 0
      },
      "text/plain": [
       "Renderer(camera=PerspectiveCamera(aspect=2.2857142857142856, children=(DirectionalLight(color='#fefefe', inten…"
      ]
     },
     "metadata": {},
     "output_type": "display_data"
    }
   ],
   "source": [
    "edges = tmesh.extract_all_edges()\n",
    "edges.plot(line_width=2, color='k', **opts)"
   ]
  },
  {
   "cell_type": "code",
   "execution_count": 16,
   "id": "95b4f0ce",
   "metadata": {},
   "outputs": [],
   "source": [
    "tmesh.save('data/tmesh.vtu')"
   ]
  },
  {
   "cell_type": "code",
   "execution_count": 2,
   "id": "029a4725",
   "metadata": {},
   "outputs": [
    {
     "data": {
      "application/vnd.jupyter.widget-view+json": {
       "model_id": "d69178fa0c2f4305883acfbb2ccebbc8",
       "version_major": 2,
       "version_minor": 0
      },
      "text/plain": [
       "Renderer(camera=PerspectiveCamera(aspect=2.2857142857142856, children=(DirectionalLight(color='#fefefe', inten…"
      ]
     },
     "metadata": {},
     "output_type": "display_data"
    }
   ],
   "source": [
    "ntmesh = pv.read('data/tmesh.vtu')\n",
    "ntmesh.plot(show_edges=True, opacity=0.5, **opts)"
   ]
  },
  {
   "cell_type": "code",
   "execution_count": 3,
   "id": "b6366a6a",
   "metadata": {},
   "outputs": [
    {
     "data": {
      "text/plain": [
       "48"
      ]
     },
     "execution_count": 3,
     "metadata": {},
     "output_type": "execute_result"
    }
   ],
   "source": [
    "ntmesh.number_of_cells"
   ]
  },
  {
   "cell_type": "code",
   "execution_count": null,
   "id": "a4756937",
   "metadata": {},
   "outputs": [],
   "source": []
  }
 ],
 "metadata": {
  "kernelspec": {
   "display_name": "Python 3 (ipykernel)",
   "language": "python",
   "name": "python3"
  },
  "language_info": {
   "codemirror_mode": {
    "name": "ipython",
    "version": 3
   },
   "file_extension": ".py",
   "mimetype": "text/x-python",
   "name": "python",
   "nbconvert_exporter": "python",
   "pygments_lexer": "ipython3",
   "version": "3.9.7"
  }
 },
 "nbformat": 4,
 "nbformat_minor": 5
}
